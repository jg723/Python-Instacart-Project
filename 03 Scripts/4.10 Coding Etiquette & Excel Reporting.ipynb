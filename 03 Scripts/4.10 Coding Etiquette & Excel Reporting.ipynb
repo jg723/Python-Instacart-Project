{
 "cells": [
  {
   "cell_type": "markdown",
   "id": "4c6ae6f5",
   "metadata": {},
   "source": [
    "### Table of contents\n",
    "\n",
    "01. Importing Libraries\n",
    "\n",
    "02. Importing Data Set\n",
    "\n",
    "03. Dictionaries and Functions\n",
    "\n",
    "04. Personally Identifiable information review and removal\n",
    "\n",
    "05. Regions\n",
    "\n",
    "06. Customer Profiling\n",
    "\n",
    "07. Exporting Data and Plots"
   ]
  },
  {
   "cell_type": "markdown",
   "id": "e3d4c3f7",
   "metadata": {},
   "source": [
    "# 01. Importing Libraries"
   ]
  },
  {
   "cell_type": "code",
   "execution_count": 4,
   "id": "2cb78133",
   "metadata": {},
   "outputs": [],
   "source": [
    "import pandas as pd\n",
    "import numpy as np\n",
    "import os\n",
    "import matplotlib.pyplot as plt\n",
    "import seaborn as sns\n",
    "import scipy"
   ]
  },
  {
   "cell_type": "markdown",
   "id": "d3782bf2",
   "metadata": {},
   "source": [
    "# 02. Importing Data Set(s)"
   ]
  },
  {
   "cell_type": "code",
   "execution_count": 5,
   "id": "e7cf881b",
   "metadata": {},
   "outputs": [],
   "source": [
    "# Creating a path variable as a short cut for future importing of data\n",
    "path = r'/Users/tuor/DA Projects/230321 Instacart Basket Analysis'"
   ]
  },
  {
   "cell_type": "code",
   "execution_count": 6,
   "id": "4d8d761d",
   "metadata": {},
   "outputs": [],
   "source": [
    "ords_prods_cust = pd.read_pickle(os.path.join(path, '02 Data', 'Prepared Data', '230331_orders_products_customers_merged.pkl'))"
   ]
  },
  {
   "cell_type": "code",
   "execution_count": null,
   "id": "3d02a90b",
   "metadata": {},
   "outputs": [],
   "source": [
    "# create a dictionary to map department names to IDs\n",
    "department = {1: 'frozen', 2: 'other', 3: 'bakery', 4: 'produce', 5: 'alcohol', 6: 'international', \n",
    "                    7: 'beverages', 8: 'pets', 9: 'dry goods pasta', 10: 'bulk', 11: 'personal care',\n",
    "                    12: 'meat seafood', 13: 'pantry', 14: 'breakfast', 15: 'canned goods', 16: 'dairy eggs', \n",
    "                    17: 'household', 18: 'babies', 19: 'snacks', 20: 'deli', 21: 'missing'}"
   ]
  },
  {
   "cell_type": "code",
   "execution_count": 9,
   "id": "f470edf8",
   "metadata": {
    "scrolled": true
   },
   "outputs": [],
   "source": [
    "crosstab = pd.crosstab(ords_prods_cust['days_since_prior_order'], ords_prods_cust['order_number'], dropna = False)"
   ]
  },
  {
   "cell_type": "code",
   "execution_count": 14,
   "id": "ae4dd6a3",
   "metadata": {},
   "outputs": [],
   "source": [
    "pd.options.display.max_columns = None"
   ]
  },
  {
   "cell_type": "code",
   "execution_count": 15,
   "id": "69aea8f4",
   "metadata": {},
   "outputs": [
    {
     "data": {
      "text/html": [
       "<div>\n",
       "<style scoped>\n",
       "    .dataframe tbody tr th:only-of-type {\n",
       "        vertical-align: middle;\n",
       "    }\n",
       "\n",
       "    .dataframe tbody tr th {\n",
       "        vertical-align: top;\n",
       "    }\n",
       "\n",
       "    .dataframe thead th {\n",
       "        text-align: right;\n",
       "    }\n",
       "</style>\n",
       "<table border=\"1\" class=\"dataframe\">\n",
       "  <thead>\n",
       "    <tr style=\"text-align: right;\">\n",
       "      <th></th>\n",
       "      <th>user_id</th>\n",
       "      <th>first_name</th>\n",
       "      <th>last_name</th>\n",
       "      <th>gender</th>\n",
       "      <th>state</th>\n",
       "      <th>age</th>\n",
       "      <th>date_joined</th>\n",
       "      <th>number_of_dependents</th>\n",
       "      <th>marital_status</th>\n",
       "      <th>income</th>\n",
       "      <th>product_id</th>\n",
       "      <th>product_name</th>\n",
       "      <th>aisle_id</th>\n",
       "      <th>department_id</th>\n",
       "      <th>prices</th>\n",
       "      <th>order_id</th>\n",
       "      <th>order_number</th>\n",
       "      <th>order_day_of_week</th>\n",
       "      <th>order_hour_of_day</th>\n",
       "      <th>days_since_prior_order</th>\n",
       "      <th>add_to_cart_order</th>\n",
       "      <th>reordered</th>\n",
       "      <th>_merge</th>\n",
       "      <th>merge_indicator</th>\n",
       "      <th>price_range_loc</th>\n",
       "      <th>busiest_days</th>\n",
       "      <th>busiest_period_of_day</th>\n",
       "      <th>max_order</th>\n",
       "      <th>loyalty_flag</th>\n",
       "      <th>mean_user_product_price</th>\n",
       "      <th>spender_flag</th>\n",
       "      <th>median_prior_order</th>\n",
       "      <th>freq_flag</th>\n",
       "      <th>indicator_opc_merge</th>\n",
       "    </tr>\n",
       "  </thead>\n",
       "  <tbody>\n",
       "    <tr>\n",
       "      <th>0</th>\n",
       "      <td>26711</td>\n",
       "      <td>Deborah</td>\n",
       "      <td>Esquivel</td>\n",
       "      <td>Female</td>\n",
       "      <td>Missouri</td>\n",
       "      <td>48</td>\n",
       "      <td>2017-01-01</td>\n",
       "      <td>3</td>\n",
       "      <td>married</td>\n",
       "      <td>165665</td>\n",
       "      <td>196</td>\n",
       "      <td>Soda</td>\n",
       "      <td>77</td>\n",
       "      <td>7</td>\n",
       "      <td>9.0</td>\n",
       "      <td>2543867</td>\n",
       "      <td>5</td>\n",
       "      <td>1</td>\n",
       "      <td>9</td>\n",
       "      <td>30.0</td>\n",
       "      <td>2</td>\n",
       "      <td>0</td>\n",
       "      <td>both</td>\n",
       "      <td>both</td>\n",
       "      <td>Mid-range product</td>\n",
       "      <td>Regularly busy</td>\n",
       "      <td>Average orders</td>\n",
       "      <td>8</td>\n",
       "      <td>New customer</td>\n",
       "      <td>7.988889</td>\n",
       "      <td>Low spender</td>\n",
       "      <td>19.0</td>\n",
       "      <td>Regular customer</td>\n",
       "      <td>both</td>\n",
       "    </tr>\n",
       "    <tr>\n",
       "      <th>1</th>\n",
       "      <td>26711</td>\n",
       "      <td>Deborah</td>\n",
       "      <td>Esquivel</td>\n",
       "      <td>Female</td>\n",
       "      <td>Missouri</td>\n",
       "      <td>48</td>\n",
       "      <td>2017-01-01</td>\n",
       "      <td>3</td>\n",
       "      <td>married</td>\n",
       "      <td>165665</td>\n",
       "      <td>196</td>\n",
       "      <td>Soda</td>\n",
       "      <td>77</td>\n",
       "      <td>7</td>\n",
       "      <td>9.0</td>\n",
       "      <td>1285508</td>\n",
       "      <td>7</td>\n",
       "      <td>5</td>\n",
       "      <td>15</td>\n",
       "      <td>11.0</td>\n",
       "      <td>1</td>\n",
       "      <td>1</td>\n",
       "      <td>both</td>\n",
       "      <td>both</td>\n",
       "      <td>Mid-range product</td>\n",
       "      <td>Regularly busy</td>\n",
       "      <td>Average orders</td>\n",
       "      <td>8</td>\n",
       "      <td>New customer</td>\n",
       "      <td>7.988889</td>\n",
       "      <td>Low spender</td>\n",
       "      <td>19.0</td>\n",
       "      <td>Regular customer</td>\n",
       "      <td>both</td>\n",
       "    </tr>\n",
       "    <tr>\n",
       "      <th>2</th>\n",
       "      <td>26711</td>\n",
       "      <td>Deborah</td>\n",
       "      <td>Esquivel</td>\n",
       "      <td>Female</td>\n",
       "      <td>Missouri</td>\n",
       "      <td>48</td>\n",
       "      <td>2017-01-01</td>\n",
       "      <td>3</td>\n",
       "      <td>married</td>\n",
       "      <td>165665</td>\n",
       "      <td>196</td>\n",
       "      <td>Soda</td>\n",
       "      <td>77</td>\n",
       "      <td>7</td>\n",
       "      <td>9.0</td>\n",
       "      <td>2578584</td>\n",
       "      <td>8</td>\n",
       "      <td>1</td>\n",
       "      <td>15</td>\n",
       "      <td>10.0</td>\n",
       "      <td>2</td>\n",
       "      <td>1</td>\n",
       "      <td>both</td>\n",
       "      <td>both</td>\n",
       "      <td>Mid-range product</td>\n",
       "      <td>Regularly busy</td>\n",
       "      <td>Average orders</td>\n",
       "      <td>8</td>\n",
       "      <td>New customer</td>\n",
       "      <td>7.988889</td>\n",
       "      <td>Low spender</td>\n",
       "      <td>19.0</td>\n",
       "      <td>Regular customer</td>\n",
       "      <td>both</td>\n",
       "    </tr>\n",
       "    <tr>\n",
       "      <th>3</th>\n",
       "      <td>26711</td>\n",
       "      <td>Deborah</td>\n",
       "      <td>Esquivel</td>\n",
       "      <td>Female</td>\n",
       "      <td>Missouri</td>\n",
       "      <td>48</td>\n",
       "      <td>2017-01-01</td>\n",
       "      <td>3</td>\n",
       "      <td>married</td>\n",
       "      <td>165665</td>\n",
       "      <td>6184</td>\n",
       "      <td>Clementines</td>\n",
       "      <td>32</td>\n",
       "      <td>4</td>\n",
       "      <td>4.3</td>\n",
       "      <td>518967</td>\n",
       "      <td>1</td>\n",
       "      <td>2</td>\n",
       "      <td>9</td>\n",
       "      <td>NaN</td>\n",
       "      <td>1</td>\n",
       "      <td>0</td>\n",
       "      <td>both</td>\n",
       "      <td>both</td>\n",
       "      <td>Low-range product</td>\n",
       "      <td>Regularly busy</td>\n",
       "      <td>Average orders</td>\n",
       "      <td>8</td>\n",
       "      <td>New customer</td>\n",
       "      <td>7.988889</td>\n",
       "      <td>Low spender</td>\n",
       "      <td>19.0</td>\n",
       "      <td>Regular customer</td>\n",
       "      <td>both</td>\n",
       "    </tr>\n",
       "    <tr>\n",
       "      <th>4</th>\n",
       "      <td>26711</td>\n",
       "      <td>Deborah</td>\n",
       "      <td>Esquivel</td>\n",
       "      <td>Female</td>\n",
       "      <td>Missouri</td>\n",
       "      <td>48</td>\n",
       "      <td>2017-01-01</td>\n",
       "      <td>3</td>\n",
       "      <td>married</td>\n",
       "      <td>165665</td>\n",
       "      <td>6184</td>\n",
       "      <td>Clementines</td>\n",
       "      <td>32</td>\n",
       "      <td>4</td>\n",
       "      <td>4.3</td>\n",
       "      <td>2524893</td>\n",
       "      <td>3</td>\n",
       "      <td>3</td>\n",
       "      <td>11</td>\n",
       "      <td>30.0</td>\n",
       "      <td>2</td>\n",
       "      <td>1</td>\n",
       "      <td>both</td>\n",
       "      <td>both</td>\n",
       "      <td>Low-range product</td>\n",
       "      <td>2nd Least busy</td>\n",
       "      <td>Average orders</td>\n",
       "      <td>8</td>\n",
       "      <td>New customer</td>\n",
       "      <td>7.988889</td>\n",
       "      <td>Low spender</td>\n",
       "      <td>19.0</td>\n",
       "      <td>Regular customer</td>\n",
       "      <td>both</td>\n",
       "    </tr>\n",
       "  </tbody>\n",
       "</table>\n",
       "</div>"
      ],
      "text/plain": [
       "  user_id first_name last_name  gender     state  age date_joined  \\\n",
       "0   26711    Deborah  Esquivel  Female  Missouri   48  2017-01-01   \n",
       "1   26711    Deborah  Esquivel  Female  Missouri   48  2017-01-01   \n",
       "2   26711    Deborah  Esquivel  Female  Missouri   48  2017-01-01   \n",
       "3   26711    Deborah  Esquivel  Female  Missouri   48  2017-01-01   \n",
       "4   26711    Deborah  Esquivel  Female  Missouri   48  2017-01-01   \n",
       "\n",
       "   number_of_dependents marital_status  income  product_id product_name  \\\n",
       "0                     3        married  165665         196         Soda   \n",
       "1                     3        married  165665         196         Soda   \n",
       "2                     3        married  165665         196         Soda   \n",
       "3                     3        married  165665        6184  Clementines   \n",
       "4                     3        married  165665        6184  Clementines   \n",
       "\n",
       "   aisle_id  department_id  prices  order_id  order_number  order_day_of_week  \\\n",
       "0        77              7     9.0   2543867             5                  1   \n",
       "1        77              7     9.0   1285508             7                  5   \n",
       "2        77              7     9.0   2578584             8                  1   \n",
       "3        32              4     4.3    518967             1                  2   \n",
       "4        32              4     4.3   2524893             3                  3   \n",
       "\n",
       "   order_hour_of_day  days_since_prior_order  add_to_cart_order  reordered  \\\n",
       "0                  9                    30.0                  2          0   \n",
       "1                 15                    11.0                  1          1   \n",
       "2                 15                    10.0                  2          1   \n",
       "3                  9                     NaN                  1          0   \n",
       "4                 11                    30.0                  2          1   \n",
       "\n",
       "  _merge merge_indicator    price_range_loc    busiest_days  \\\n",
       "0   both            both  Mid-range product  Regularly busy   \n",
       "1   both            both  Mid-range product  Regularly busy   \n",
       "2   both            both  Mid-range product  Regularly busy   \n",
       "3   both            both  Low-range product  Regularly busy   \n",
       "4   both            both  Low-range product  2nd Least busy   \n",
       "\n",
       "  busiest_period_of_day  max_order  loyalty_flag  mean_user_product_price  \\\n",
       "0        Average orders          8  New customer                 7.988889   \n",
       "1        Average orders          8  New customer                 7.988889   \n",
       "2        Average orders          8  New customer                 7.988889   \n",
       "3        Average orders          8  New customer                 7.988889   \n",
       "4        Average orders          8  New customer                 7.988889   \n",
       "\n",
       "  spender_flag  median_prior_order         freq_flag indicator_opc_merge  \n",
       "0  Low spender                19.0  Regular customer                both  \n",
       "1  Low spender                19.0  Regular customer                both  \n",
       "2  Low spender                19.0  Regular customer                both  \n",
       "3  Low spender                19.0  Regular customer                both  \n",
       "4  Low spender                19.0  Regular customer                both  "
      ]
     },
     "execution_count": 15,
     "metadata": {},
     "output_type": "execute_result"
    }
   ],
   "source": [
    "ords_prods_cust.head()"
   ]
  },
  {
   "cell_type": "code",
   "execution_count": 11,
   "id": "3412caf3",
   "metadata": {},
   "outputs": [
    {
     "data": {
      "text/html": [
       "<div>\n",
       "<style scoped>\n",
       "    .dataframe tbody tr th:only-of-type {\n",
       "        vertical-align: middle;\n",
       "    }\n",
       "\n",
       "    .dataframe tbody tr th {\n",
       "        vertical-align: top;\n",
       "    }\n",
       "\n",
       "    .dataframe thead th {\n",
       "        text-align: right;\n",
       "    }\n",
       "</style>\n",
       "<table border=\"1\" class=\"dataframe\">\n",
       "  <thead>\n",
       "    <tr style=\"text-align: right;\">\n",
       "      <th>order_number</th>\n",
       "      <th>1</th>\n",
       "      <th>2</th>\n",
       "      <th>3</th>\n",
       "      <th>4</th>\n",
       "      <th>5</th>\n",
       "      <th>6</th>\n",
       "      <th>7</th>\n",
       "      <th>8</th>\n",
       "      <th>9</th>\n",
       "      <th>10</th>\n",
       "      <th>...</th>\n",
       "      <th>90</th>\n",
       "      <th>91</th>\n",
       "      <th>92</th>\n",
       "      <th>93</th>\n",
       "      <th>94</th>\n",
       "      <th>95</th>\n",
       "      <th>96</th>\n",
       "      <th>97</th>\n",
       "      <th>98</th>\n",
       "      <th>99</th>\n",
       "    </tr>\n",
       "    <tr>\n",
       "      <th>days_since_prior_order</th>\n",
       "      <th></th>\n",
       "      <th></th>\n",
       "      <th></th>\n",
       "      <th></th>\n",
       "      <th></th>\n",
       "      <th></th>\n",
       "      <th></th>\n",
       "      <th></th>\n",
       "      <th></th>\n",
       "      <th></th>\n",
       "      <th></th>\n",
       "      <th></th>\n",
       "      <th></th>\n",
       "      <th></th>\n",
       "      <th></th>\n",
       "      <th></th>\n",
       "      <th></th>\n",
       "      <th></th>\n",
       "      <th></th>\n",
       "      <th></th>\n",
       "      <th></th>\n",
       "    </tr>\n",
       "  </thead>\n",
       "  <tbody>\n",
       "    <tr>\n",
       "      <th>0.0</th>\n",
       "      <td>0</td>\n",
       "      <td>20536</td>\n",
       "      <td>20441</td>\n",
       "      <td>17984</td>\n",
       "      <td>16438</td>\n",
       "      <td>16046</td>\n",
       "      <td>14384</td>\n",
       "      <td>13890</td>\n",
       "      <td>12774</td>\n",
       "      <td>11461</td>\n",
       "      <td>...</td>\n",
       "      <td>1195</td>\n",
       "      <td>1148</td>\n",
       "      <td>1040</td>\n",
       "      <td>937</td>\n",
       "      <td>1134</td>\n",
       "      <td>1099</td>\n",
       "      <td>1041</td>\n",
       "      <td>883</td>\n",
       "      <td>1037</td>\n",
       "      <td>935</td>\n",
       "    </tr>\n",
       "    <tr>\n",
       "      <th>1.0</th>\n",
       "      <td>0</td>\n",
       "      <td>31676</td>\n",
       "      <td>29950</td>\n",
       "      <td>28011</td>\n",
       "      <td>27093</td>\n",
       "      <td>25533</td>\n",
       "      <td>24997</td>\n",
       "      <td>22922</td>\n",
       "      <td>21784</td>\n",
       "      <td>21068</td>\n",
       "      <td>...</td>\n",
       "      <td>2787</td>\n",
       "      <td>2801</td>\n",
       "      <td>2728</td>\n",
       "      <td>2605</td>\n",
       "      <td>2606</td>\n",
       "      <td>2639</td>\n",
       "      <td>2436</td>\n",
       "      <td>2535</td>\n",
       "      <td>2633</td>\n",
       "      <td>2363</td>\n",
       "    </tr>\n",
       "    <tr>\n",
       "      <th>2.0</th>\n",
       "      <td>0</td>\n",
       "      <td>46456</td>\n",
       "      <td>46266</td>\n",
       "      <td>43905</td>\n",
       "      <td>40729</td>\n",
       "      <td>40909</td>\n",
       "      <td>38102</td>\n",
       "      <td>37521</td>\n",
       "      <td>35745</td>\n",
       "      <td>33831</td>\n",
       "      <td>...</td>\n",
       "      <td>3623</td>\n",
       "      <td>3555</td>\n",
       "      <td>3314</td>\n",
       "      <td>3590</td>\n",
       "      <td>3319</td>\n",
       "      <td>3072</td>\n",
       "      <td>2985</td>\n",
       "      <td>3057</td>\n",
       "      <td>3091</td>\n",
       "      <td>2609</td>\n",
       "    </tr>\n",
       "    <tr>\n",
       "      <th>3.0</th>\n",
       "      <td>0</td>\n",
       "      <td>61639</td>\n",
       "      <td>63389</td>\n",
       "      <td>59996</td>\n",
       "      <td>57883</td>\n",
       "      <td>56185</td>\n",
       "      <td>52871</td>\n",
       "      <td>49293</td>\n",
       "      <td>48296</td>\n",
       "      <td>47827</td>\n",
       "      <td>...</td>\n",
       "      <td>3318</td>\n",
       "      <td>3237</td>\n",
       "      <td>2799</td>\n",
       "      <td>3073</td>\n",
       "      <td>2902</td>\n",
       "      <td>2635</td>\n",
       "      <td>2659</td>\n",
       "      <td>2462</td>\n",
       "      <td>2168</td>\n",
       "      <td>2467</td>\n",
       "    </tr>\n",
       "    <tr>\n",
       "      <th>4.0</th>\n",
       "      <td>0</td>\n",
       "      <td>76735</td>\n",
       "      <td>78861</td>\n",
       "      <td>73542</td>\n",
       "      <td>70522</td>\n",
       "      <td>66570</td>\n",
       "      <td>62401</td>\n",
       "      <td>61148</td>\n",
       "      <td>59501</td>\n",
       "      <td>57701</td>\n",
       "      <td>...</td>\n",
       "      <td>2343</td>\n",
       "      <td>2260</td>\n",
       "      <td>2490</td>\n",
       "      <td>2031</td>\n",
       "      <td>1800</td>\n",
       "      <td>2083</td>\n",
       "      <td>1918</td>\n",
       "      <td>1792</td>\n",
       "      <td>1695</td>\n",
       "      <td>1810</td>\n",
       "    </tr>\n",
       "    <tr>\n",
       "      <th>5.0</th>\n",
       "      <td>0</td>\n",
       "      <td>89001</td>\n",
       "      <td>91747</td>\n",
       "      <td>86507</td>\n",
       "      <td>81861</td>\n",
       "      <td>77588</td>\n",
       "      <td>73587</td>\n",
       "      <td>70023</td>\n",
       "      <td>64469</td>\n",
       "      <td>63156</td>\n",
       "      <td>...</td>\n",
       "      <td>1630</td>\n",
       "      <td>1630</td>\n",
       "      <td>1367</td>\n",
       "      <td>983</td>\n",
       "      <td>1215</td>\n",
       "      <td>1220</td>\n",
       "      <td>1166</td>\n",
       "      <td>966</td>\n",
       "      <td>912</td>\n",
       "      <td>936</td>\n",
       "    </tr>\n",
       "    <tr>\n",
       "      <th>6.0</th>\n",
       "      <td>0</td>\n",
       "      <td>120686</td>\n",
       "      <td>122877</td>\n",
       "      <td>114651</td>\n",
       "      <td>106766</td>\n",
       "      <td>100759</td>\n",
       "      <td>95958</td>\n",
       "      <td>89752</td>\n",
       "      <td>87204</td>\n",
       "      <td>78638</td>\n",
       "      <td>...</td>\n",
       "      <td>754</td>\n",
       "      <td>842</td>\n",
       "      <td>940</td>\n",
       "      <td>1014</td>\n",
       "      <td>835</td>\n",
       "      <td>570</td>\n",
       "      <td>490</td>\n",
       "      <td>602</td>\n",
       "      <td>485</td>\n",
       "      <td>542</td>\n",
       "    </tr>\n",
       "    <tr>\n",
       "      <th>7.0</th>\n",
       "      <td>0</td>\n",
       "      <td>184806</td>\n",
       "      <td>181661</td>\n",
       "      <td>167607</td>\n",
       "      <td>157446</td>\n",
       "      <td>143635</td>\n",
       "      <td>137684</td>\n",
       "      <td>128428</td>\n",
       "      <td>120736</td>\n",
       "      <td>114772</td>\n",
       "      <td>...</td>\n",
       "      <td>634</td>\n",
       "      <td>573</td>\n",
       "      <td>521</td>\n",
       "      <td>440</td>\n",
       "      <td>602</td>\n",
       "      <td>421</td>\n",
       "      <td>420</td>\n",
       "      <td>378</td>\n",
       "      <td>419</td>\n",
       "      <td>322</td>\n",
       "    </tr>\n",
       "    <tr>\n",
       "      <th>8.0</th>\n",
       "      <td>0</td>\n",
       "      <td>112334</td>\n",
       "      <td>110745</td>\n",
       "      <td>102226</td>\n",
       "      <td>94946</td>\n",
       "      <td>87615</td>\n",
       "      <td>81626</td>\n",
       "      <td>78767</td>\n",
       "      <td>71075</td>\n",
       "      <td>67569</td>\n",
       "      <td>...</td>\n",
       "      <td>238</td>\n",
       "      <td>262</td>\n",
       "      <td>228</td>\n",
       "      <td>244</td>\n",
       "      <td>275</td>\n",
       "      <td>232</td>\n",
       "      <td>234</td>\n",
       "      <td>143</td>\n",
       "      <td>137</td>\n",
       "      <td>84</td>\n",
       "    </tr>\n",
       "    <tr>\n",
       "      <th>9.0</th>\n",
       "      <td>0</td>\n",
       "      <td>73681</td>\n",
       "      <td>75384</td>\n",
       "      <td>68515</td>\n",
       "      <td>65047</td>\n",
       "      <td>58934</td>\n",
       "      <td>54805</td>\n",
       "      <td>50598</td>\n",
       "      <td>47754</td>\n",
       "      <td>43484</td>\n",
       "      <td>...</td>\n",
       "      <td>190</td>\n",
       "      <td>90</td>\n",
       "      <td>98</td>\n",
       "      <td>101</td>\n",
       "      <td>146</td>\n",
       "      <td>91</td>\n",
       "      <td>67</td>\n",
       "      <td>102</td>\n",
       "      <td>66</td>\n",
       "      <td>65</td>\n",
       "    </tr>\n",
       "    <tr>\n",
       "      <th>10.0</th>\n",
       "      <td>0</td>\n",
       "      <td>62038</td>\n",
       "      <td>62458</td>\n",
       "      <td>57678</td>\n",
       "      <td>51918</td>\n",
       "      <td>49465</td>\n",
       "      <td>43710</td>\n",
       "      <td>41112</td>\n",
       "      <td>38444</td>\n",
       "      <td>34918</td>\n",
       "      <td>...</td>\n",
       "      <td>60</td>\n",
       "      <td>103</td>\n",
       "      <td>222</td>\n",
       "      <td>78</td>\n",
       "      <td>45</td>\n",
       "      <td>116</td>\n",
       "      <td>4</td>\n",
       "      <td>101</td>\n",
       "      <td>42</td>\n",
       "      <td>59</td>\n",
       "    </tr>\n",
       "    <tr>\n",
       "      <th>11.0</th>\n",
       "      <td>0</td>\n",
       "      <td>55564</td>\n",
       "      <td>55920</td>\n",
       "      <td>51974</td>\n",
       "      <td>45513</td>\n",
       "      <td>42543</td>\n",
       "      <td>40175</td>\n",
       "      <td>36887</td>\n",
       "      <td>33406</td>\n",
       "      <td>30831</td>\n",
       "      <td>...</td>\n",
       "      <td>57</td>\n",
       "      <td>83</td>\n",
       "      <td>175</td>\n",
       "      <td>55</td>\n",
       "      <td>68</td>\n",
       "      <td>126</td>\n",
       "      <td>63</td>\n",
       "      <td>64</td>\n",
       "      <td>1</td>\n",
       "      <td>19</td>\n",
       "    </tr>\n",
       "    <tr>\n",
       "      <th>12.0</th>\n",
       "      <td>0</td>\n",
       "      <td>54607</td>\n",
       "      <td>56631</td>\n",
       "      <td>51044</td>\n",
       "      <td>44617</td>\n",
       "      <td>42594</td>\n",
       "      <td>38687</td>\n",
       "      <td>35331</td>\n",
       "      <td>33480</td>\n",
       "      <td>29857</td>\n",
       "      <td>...</td>\n",
       "      <td>58</td>\n",
       "      <td>54</td>\n",
       "      <td>70</td>\n",
       "      <td>32</td>\n",
       "      <td>50</td>\n",
       "      <td>75</td>\n",
       "      <td>55</td>\n",
       "      <td>52</td>\n",
       "      <td>5</td>\n",
       "      <td>66</td>\n",
       "    </tr>\n",
       "    <tr>\n",
       "      <th>13.0</th>\n",
       "      <td>0</td>\n",
       "      <td>63964</td>\n",
       "      <td>66352</td>\n",
       "      <td>58479</td>\n",
       "      <td>54342</td>\n",
       "      <td>47727</td>\n",
       "      <td>44872</td>\n",
       "      <td>41269</td>\n",
       "      <td>38334</td>\n",
       "      <td>34277</td>\n",
       "      <td>...</td>\n",
       "      <td>69</td>\n",
       "      <td>93</td>\n",
       "      <td>93</td>\n",
       "      <td>80</td>\n",
       "      <td>85</td>\n",
       "      <td>24</td>\n",
       "      <td>27</td>\n",
       "      <td>61</td>\n",
       "      <td>83</td>\n",
       "      <td>68</td>\n",
       "    </tr>\n",
       "    <tr>\n",
       "      <th>14.0</th>\n",
       "      <td>0</td>\n",
       "      <td>82112</td>\n",
       "      <td>79774</td>\n",
       "      <td>74717</td>\n",
       "      <td>67484</td>\n",
       "      <td>60478</td>\n",
       "      <td>54863</td>\n",
       "      <td>49238</td>\n",
       "      <td>46266</td>\n",
       "      <td>42383</td>\n",
       "      <td>...</td>\n",
       "      <td>38</td>\n",
       "      <td>8</td>\n",
       "      <td>13</td>\n",
       "      <td>96</td>\n",
       "      <td>55</td>\n",
       "      <td>41</td>\n",
       "      <td>32</td>\n",
       "      <td>54</td>\n",
       "      <td>33</td>\n",
       "      <td>5</td>\n",
       "    </tr>\n",
       "  </tbody>\n",
       "</table>\n",
       "<p>15 rows × 99 columns</p>\n",
       "</div>"
      ],
      "text/plain": [
       "order_number            1       2       3       4       5       6       7   \\\n",
       "days_since_prior_order                                                       \n",
       "0.0                      0   20536   20441   17984   16438   16046   14384   \n",
       "1.0                      0   31676   29950   28011   27093   25533   24997   \n",
       "2.0                      0   46456   46266   43905   40729   40909   38102   \n",
       "3.0                      0   61639   63389   59996   57883   56185   52871   \n",
       "4.0                      0   76735   78861   73542   70522   66570   62401   \n",
       "5.0                      0   89001   91747   86507   81861   77588   73587   \n",
       "6.0                      0  120686  122877  114651  106766  100759   95958   \n",
       "7.0                      0  184806  181661  167607  157446  143635  137684   \n",
       "8.0                      0  112334  110745  102226   94946   87615   81626   \n",
       "9.0                      0   73681   75384   68515   65047   58934   54805   \n",
       "10.0                     0   62038   62458   57678   51918   49465   43710   \n",
       "11.0                     0   55564   55920   51974   45513   42543   40175   \n",
       "12.0                     0   54607   56631   51044   44617   42594   38687   \n",
       "13.0                     0   63964   66352   58479   54342   47727   44872   \n",
       "14.0                     0   82112   79774   74717   67484   60478   54863   \n",
       "\n",
       "order_number                8       9       10  ...    90    91    92    93  \\\n",
       "days_since_prior_order                          ...                           \n",
       "0.0                      13890   12774   11461  ...  1195  1148  1040   937   \n",
       "1.0                      22922   21784   21068  ...  2787  2801  2728  2605   \n",
       "2.0                      37521   35745   33831  ...  3623  3555  3314  3590   \n",
       "3.0                      49293   48296   47827  ...  3318  3237  2799  3073   \n",
       "4.0                      61148   59501   57701  ...  2343  2260  2490  2031   \n",
       "5.0                      70023   64469   63156  ...  1630  1630  1367   983   \n",
       "6.0                      89752   87204   78638  ...   754   842   940  1014   \n",
       "7.0                     128428  120736  114772  ...   634   573   521   440   \n",
       "8.0                      78767   71075   67569  ...   238   262   228   244   \n",
       "9.0                      50598   47754   43484  ...   190    90    98   101   \n",
       "10.0                     41112   38444   34918  ...    60   103   222    78   \n",
       "11.0                     36887   33406   30831  ...    57    83   175    55   \n",
       "12.0                     35331   33480   29857  ...    58    54    70    32   \n",
       "13.0                     41269   38334   34277  ...    69    93    93    80   \n",
       "14.0                     49238   46266   42383  ...    38     8    13    96   \n",
       "\n",
       "order_number              94    95    96    97    98    99  \n",
       "days_since_prior_order                                      \n",
       "0.0                     1134  1099  1041   883  1037   935  \n",
       "1.0                     2606  2639  2436  2535  2633  2363  \n",
       "2.0                     3319  3072  2985  3057  3091  2609  \n",
       "3.0                     2902  2635  2659  2462  2168  2467  \n",
       "4.0                     1800  2083  1918  1792  1695  1810  \n",
       "5.0                     1215  1220  1166   966   912   936  \n",
       "6.0                      835   570   490   602   485   542  \n",
       "7.0                      602   421   420   378   419   322  \n",
       "8.0                      275   232   234   143   137    84  \n",
       "9.0                      146    91    67   102    66    65  \n",
       "10.0                      45   116     4   101    42    59  \n",
       "11.0                      68   126    63    64     1    19  \n",
       "12.0                      50    75    55    52     5    66  \n",
       "13.0                      85    24    27    61    83    68  \n",
       "14.0                      55    41    32    54    33     5  \n",
       "\n",
       "[15 rows x 99 columns]"
      ]
     },
     "execution_count": 11,
     "metadata": {},
     "output_type": "execute_result"
    }
   ],
   "source": [
    "crosstab.head(15)"
   ]
  },
  {
   "cell_type": "markdown",
   "id": "17b0afd6",
   "metadata": {},
   "source": [
    "# 03. Dictionaries and Functions"
   ]
  },
  {
   "cell_type": "code",
   "execution_count": null,
   "id": "0ed2beb4",
   "metadata": {},
   "outputs": [],
   "source": [
    "# create a dictionary of regions and their states\n",
    "regions = {\n",
    "    'Northeast': ['Maine', 'New Hampshire', 'Vermont', 'Massachusetts', 'Rhode Island', 'Connecticut', 'New York', 'Pennsylvania', 'New Jersey'],\n",
    "    'Midwest': ['Wisconsin', 'Michigan', 'Illinois', 'Indiana', 'Ohio', 'North Dakota', 'South Dakota', 'Nebraska', 'Kansas', 'Minnesota', 'Iowa', 'Missouri'],\n",
    "    'South': ['Delaware', 'Maryland', 'District of Columbia', 'Virginia', 'West Virginia', 'North Carolina', 'South Carolina', 'Georgia', 'Florida', 'Kentucky', 'Tennessee', 'Mississippi', 'Alabama', 'Oklahoma', 'Texas', 'Arkansas', 'Louisiana'],\n",
    "    'West': ['Idaho', 'Montana', 'Wyoming', 'Nevada', 'Utah', 'Colorado', 'Arizona', 'New Mexico', 'Alaska', 'Washington', 'Oregon', 'California', 'Hawaii']\n",
    "}"
   ]
  },
  {
   "cell_type": "code",
   "execution_count": null,
   "id": "5bb2755b",
   "metadata": {},
   "outputs": [],
   "source": [
    "# create a function to assign the region based on the state\n",
    "def assign_region(state):\n",
    "    for region, states in regions.items():\n",
    "        if state in states:\n",
    "            return region\n",
    "    return 'Unknown'"
   ]
  },
  {
   "cell_type": "markdown",
   "id": "b389ac0b",
   "metadata": {},
   "source": [
    "# 04. Personally Identifiable information review and removal"
   ]
  },
  {
   "cell_type": "code",
   "execution_count": null,
   "id": "91f8753e",
   "metadata": {},
   "outputs": [],
   "source": [
    "# confirming shape of data frame\n",
    "ords_prods_cust.shape"
   ]
  },
  {
   "cell_type": "code",
   "execution_count": null,
   "id": "1152f71a",
   "metadata": {},
   "outputs": [],
   "source": [
    "# allowing for all columns to be seen\n",
    "pd.set_option('display.max_columns', None)"
   ]
  },
  {
   "cell_type": "code",
   "execution_count": null,
   "id": "839c2345",
   "metadata": {},
   "outputs": [],
   "source": [
    "# reviewing columns to see if any PII exists\n",
    "ords_prods_cust.head(5)"
   ]
  },
  {
   "cell_type": "code",
   "execution_count": null,
   "id": "0fd0f6d2",
   "metadata": {},
   "outputs": [],
   "source": [
    "# For PII removing First and last name of the user\n",
    "\n",
    "ords_prods_cust = ords_prods_cust.drop(columns = ['first_name', 'last_name'])"
   ]
  },
  {
   "cell_type": "code",
   "execution_count": null,
   "id": "223e2fb4",
   "metadata": {},
   "outputs": [],
   "source": [
    "# Confirming Removale of first and last name columns\n",
    "ords_prods_cust.head(5)"
   ]
  },
  {
   "cell_type": "markdown",
   "id": "0c50c303",
   "metadata": {},
   "source": [
    "# 05. Regions"
   ]
  },
  {
   "cell_type": "markdown",
   "id": "b5171f3b",
   "metadata": {},
   "source": [
    "## 05.1 Assigning to a region"
   ]
  },
  {
   "cell_type": "code",
   "execution_count": null,
   "id": "03b95aaf",
   "metadata": {},
   "outputs": [],
   "source": [
    "ords_prods_cust['region'] = ords_prods_cust['state'].apply(assign_region)"
   ]
  },
  {
   "cell_type": "code",
   "execution_count": null,
   "id": "2e6423f8",
   "metadata": {},
   "outputs": [],
   "source": [
    "pd.set_option('display.max_rows', None)"
   ]
  },
  {
   "cell_type": "code",
   "execution_count": null,
   "id": "b9472d8f",
   "metadata": {},
   "outputs": [],
   "source": [
    "# spot check to confirm regions properly defined\n",
    "ords_prods_cust[['state','region']].tail(100)"
   ]
  },
  {
   "cell_type": "code",
   "execution_count": null,
   "id": "a1c7fe62",
   "metadata": {},
   "outputs": [],
   "source": [
    "# spot check to confirm regions properly defined\n",
    "ords_prods_cust[['state','region']].head(100)"
   ]
  },
  {
   "cell_type": "code",
   "execution_count": null,
   "id": "20df06cc",
   "metadata": {
    "scrolled": true
   },
   "outputs": [],
   "source": [
    "# reviewing assignment of region and that there are no erronious values\n",
    "ords_prods_cust['region'].value_counts(dropna=False)"
   ]
  },
  {
   "cell_type": "code",
   "execution_count": null,
   "id": "c3318418",
   "metadata": {},
   "outputs": [],
   "source": [
    "# reviewing assignment of region and that there are no erronious values\n",
    "ords_prods_cust['state'].value_counts(dropna=False)"
   ]
  },
  {
   "cell_type": "markdown",
   "id": "6b37538e",
   "metadata": {},
   "source": [
    "## 05.2 Reviewing region by spender type"
   ]
  },
  {
   "cell_type": "code",
   "execution_count": null,
   "id": "ae0782ed",
   "metadata": {},
   "outputs": [],
   "source": [
    "# spender habit by region\n",
    "ords_prods_cust.groupby('region')['spender_flag'].value_counts()"
   ]
  },
  {
   "cell_type": "markdown",
   "id": "0444888b",
   "metadata": {},
   "source": [
    "# 06. Customer Profiling"
   ]
  },
  {
   "cell_type": "code",
   "execution_count": null,
   "id": "c56cff0a",
   "metadata": {},
   "outputs": [],
   "source": [
    "# creating list of users with greater than 5 orders\n",
    "high_revenue_customers = ords_prods_cust.loc[(ords_prods_cust['max_order'] > 5)]"
   ]
  },
  {
   "cell_type": "code",
   "execution_count": null,
   "id": "3d52cb9c",
   "metadata": {
    "scrolled": false
   },
   "outputs": [],
   "source": [
    "# confirming list removes all with max_order under 5\n",
    "high_revenue_customers.value_counts('max_order').sort_index()"
   ]
  },
  {
   "cell_type": "code",
   "execution_count": null,
   "id": "dd58303c",
   "metadata": {},
   "outputs": [],
   "source": [
    "# exporting high revenue customers\n",
    "high_revenue_customers.to_pickle(os.path.join(path, '02 Data', 'Prepared Data', '230405_high_revenue_customers.pkl'))"
   ]
  },
  {
   "cell_type": "code",
   "execution_count": null,
   "id": "4a9deed1",
   "metadata": {},
   "outputs": [],
   "source": [
    "# New Parent: profile requirements\n",
    "# Age <= 40, \n",
    "# Income > 52,200\n",
    "# department 18\n",
    "# dependents > 0\n",
    "\n",
    "new_parent = high_revenue_customers.loc[(high_revenue_customers['income'] > 52200) & (high_revenue_customers['age'] <= 45) & (high_revenue_customers['number_of_dependents'] > 0) & (high_revenue_customers['department_id'] == 18)]['user_id'].unique()"
   ]
  },
  {
   "cell_type": "code",
   "execution_count": null,
   "id": "f22157fc",
   "metadata": {},
   "outputs": [],
   "source": [
    "# New Parent: Filling in customer profile\n",
    "high_revenue_customers.loc[high_revenue_customers['user_id'].isin(new_parent), 'customer_profile'] = 'New parent'"
   ]
  },
  {
   "cell_type": "code",
   "execution_count": null,
   "id": "5f53166f",
   "metadata": {},
   "outputs": [],
   "source": [
    "# Young Professional: profile requirements\n",
    "#Age <= 40, \n",
    "#income > 52,200, \n",
    "#dependents = 0 \n",
    "#Department = irrelevant\n",
    "\n",
    "high_revenue_customers.loc[(high_revenue_customers['income'] > 52200) & (high_revenue_customers['age'] <= 40) & (high_revenue_customers['number_of_dependents'] == 0), 'customer_profile'] = 'Young Professional'"
   ]
  },
  {
   "cell_type": "code",
   "execution_count": null,
   "id": "f660d987",
   "metadata": {},
   "outputs": [],
   "source": [
    "# Pet Owner: profile requirements - will write over other profiles\n",
    "#Age irrelevant\n",
    "#Income > 52,200\n",
    "#Department = has 8 in purchases\n",
    "#Number of dependents irrelevant\n",
    "\n",
    "pet_parents = high_revenue_customers[(high_revenue_customers['income'] > 52200) & (high_revenue_customers['department_id'] == 8)]['user_id'].unique()"
   ]
  },
  {
   "cell_type": "code",
   "execution_count": null,
   "id": "f8618392",
   "metadata": {
    "scrolled": false
   },
   "outputs": [],
   "source": [
    "# Pet Owner: Filling in customer profile - will write over other profiles\n",
    "high_revenue_customers.loc[high_revenue_customers['user_id'].isin(pet_parents), 'customer_profile'] = 'Pet owner'"
   ]
  },
  {
   "cell_type": "code",
   "execution_count": null,
   "id": "87acca6d",
   "metadata": {},
   "outputs": [],
   "source": [
    "# Elderly: profile requirements - Will write over other profiles\n",
    "#Age > 67\n",
    "#Income irrelevant\n",
    "#Department irrelevant\n",
    "#Number of dependents irrelevant\n",
    "\n",
    "high_revenue_customers.loc[high_revenue_customers['age'] >= 67, 'customer_profile'] = 'Elderly'"
   ]
  },
  {
   "cell_type": "code",
   "execution_count": null,
   "id": "926a7c93",
   "metadata": {},
   "outputs": [],
   "source": [
    "# High income adult: profile requirements - Will over write other profiles\n",
    "#Age >= 35\n",
    "#Income > 155,000\n",
    "#Department irrelevant\n",
    "#Dependents irrelevant\n",
    "\n",
    "high_revenue_customers.loc[(high_revenue_customers['age'] >= 25) & (high_revenue_customers['income'] > 155000), 'customer_profile'] = 'High income adult'"
   ]
  },
  {
   "cell_type": "code",
   "execution_count": null,
   "id": "34ddf10c",
   "metadata": {},
   "outputs": [],
   "source": [
    "# Other - removing remaining NaN values\n",
    "high_revenue_customers['customer_profile'].fillna('Other', inplace=True)"
   ]
  },
  {
   "cell_type": "code",
   "execution_count": null,
   "id": "e52b682f",
   "metadata": {
    "scrolled": false
   },
   "outputs": [],
   "source": [
    "high_revenue_customers['customer_profile'].value_counts(dropna=False)"
   ]
  },
  {
   "cell_type": "code",
   "execution_count": null,
   "id": "b8ad49ac",
   "metadata": {},
   "outputs": [],
   "source": [
    "customer_profile_counts = high_revenue_customers['customer_profile'].value_counts(dropna=True)"
   ]
  },
  {
   "cell_type": "code",
   "execution_count": null,
   "id": "aa0ee11d",
   "metadata": {
    "scrolled": false
   },
   "outputs": [],
   "source": [
    "# Create the bar plot of order count by customer profile\n",
    "cust_prof_cnt = customer_profile_counts.plot.bar()"
   ]
  },
  {
   "cell_type": "code",
   "execution_count": null,
   "id": "16dcb82d",
   "metadata": {
    "scrolled": true
   },
   "outputs": [],
   "source": [
    "# Set the title and axis labels\n",
    "cust_prof_cnt.set_title('Count of Orders by Customer Profiles')\n",
    "cust_prof_cnt.set_xlabel('Customer Profile')\n",
    "cust_prof_cnt.set_ylabel('Count')\n",
    "# set the figure size and DPI\n",
    "cust_prof_cnt.get_figure().set_size_inches(14, 15)\n",
    "cust_prof_cnt.get_figure().dpi = 100"
   ]
  },
  {
   "cell_type": "code",
   "execution_count": null,
   "id": "f56a8bad",
   "metadata": {},
   "outputs": [],
   "source": [
    "# Group the data by 'customer_profile' and calculate the max, mean, and min of 'median_prior_order' and 'mean_user_product_price' for each group\n",
    "grouped_data = high_revenue_customers.groupby('customer_profile')[['median_prior_order', 'mean_user_product_price']].agg(['max', 'mean', 'min'])"
   ]
  },
  {
   "cell_type": "code",
   "execution_count": null,
   "id": "ba3eeb6f",
   "metadata": {
    "scrolled": true
   },
   "outputs": [],
   "source": [
    "#printing values\n",
    "grouped_data.head(10)"
   ]
  },
  {
   "cell_type": "code",
   "execution_count": null,
   "id": "703453db",
   "metadata": {},
   "outputs": [],
   "source": [
    "high_revenue_customers.shape"
   ]
  },
  {
   "cell_type": "code",
   "execution_count": null,
   "id": "6bfb635d",
   "metadata": {
    "scrolled": true
   },
   "outputs": [],
   "source": [
    "# map department names to IDs in the high_revenue_customers data frame\n",
    "high_revenue_customers['department'] = high_revenue_customers['department_id'].map(department)\n"
   ]
  },
  {
   "cell_type": "code",
   "execution_count": null,
   "id": "11d0c6a0",
   "metadata": {
    "scrolled": true
   },
   "outputs": [],
   "source": [
    "high_revenue_customers.shape"
   ]
  },
  {
   "cell_type": "code",
   "execution_count": null,
   "id": "dfde807f",
   "metadata": {},
   "outputs": [],
   "source": [
    "high_revenue_customers['department'].value_counts(dropna=False)"
   ]
  },
  {
   "cell_type": "code",
   "execution_count": null,
   "id": "8c3f4333",
   "metadata": {
    "scrolled": true
   },
   "outputs": [],
   "source": [
    "department_order_count = high_revenue_customers['department'].value_counts(dropna=False)"
   ]
  },
  {
   "cell_type": "code",
   "execution_count": null,
   "id": "0b4620e1",
   "metadata": {},
   "outputs": [],
   "source": [
    "# exporting high revenue customers\n",
    "high_revenue_customers.to_pickle(os.path.join(path, '02 Data', 'Prepared Data', '2304013_high_revenue_customers.pkl'))"
   ]
  },
  {
   "cell_type": "code",
   "execution_count": null,
   "id": "b0705640",
   "metadata": {},
   "outputs": [],
   "source": [
    "# customer count by department unique user_id count\n",
    "#customers_by_department_counts = high_revenue_customers.groupby('department')['user_id'].nunique()\n"
   ]
  },
  {
   "cell_type": "code",
   "execution_count": null,
   "id": "a4e27f8c",
   "metadata": {},
   "outputs": [],
   "source": [
    "# Group the data by 'customer_profile' and calculate the max, mean, and min of 'median_prior_order' and 'mean_user_product_price' for each group\n",
    "grouped_data_department = high_revenue_customers.groupby('department')[['median_prior_order', 'mean_user_product_price']].agg(['max', 'mean', 'min'])"
   ]
  },
  {
   "cell_type": "code",
   "execution_count": null,
   "id": "b1a66f1b",
   "metadata": {},
   "outputs": [],
   "source": [
    "grouped_data_department.head(30)"
   ]
  },
  {
   "cell_type": "code",
   "execution_count": null,
   "id": "38c0eddb",
   "metadata": {},
   "outputs": [],
   "source": [
    "# Create the bar plot\n",
    "dep_ord_cnt = department_order_count.plot(kind='bar', figsize=(10, 14))\n",
    "\n",
    "# Set the title and axis labels\n",
    "plt.title('Count of Orders by Department')\n",
    "plt.xlabel('Department')\n",
    "plt.ylabel('Count')"
   ]
  },
  {
   "cell_type": "code",
   "execution_count": null,
   "id": "bb4939cc",
   "metadata": {},
   "outputs": [],
   "source": [
    "# Set the title and axis labels\n",
    "cust_prof_cnt.set_title('Count of Orders by Customer Profiles')\n",
    "cust_prof_cnt.set_xlabel('Customer Profile')\n",
    "cust_prof_cnt.set_ylabel('Count')\n",
    "# set the figure size and DPI\n",
    "cust_prof_cnt.get_figure().set_size_inches(14, 15)\n",
    "cust_prof_cnt.get_figure().dpi = 100"
   ]
  },
  {
   "cell_type": "code",
   "execution_count": null,
   "id": "2ffe7732",
   "metadata": {},
   "outputs": [],
   "source": [
    "high_revenue_customers['region'].value_counts(dropna=False)"
   ]
  },
  {
   "cell_type": "code",
   "execution_count": null,
   "id": "9c2ae196",
   "metadata": {},
   "outputs": [],
   "source": [
    "region_order_count = high_revenue_customers['region'].value_counts(dropna=False)"
   ]
  },
  {
   "cell_type": "code",
   "execution_count": null,
   "id": "48dda85b",
   "metadata": {},
   "outputs": [],
   "source": [
    "# Group the data by 'customer_profile' and calculate the max, mean, and min of 'median_prior_order' and 'mean_user_product_price' for each group\n",
    "grouped_data_region = high_revenue_customers.groupby('region')[['median_prior_order', 'mean_user_product_price']].agg(['max', 'mean', 'min'])"
   ]
  },
  {
   "cell_type": "code",
   "execution_count": null,
   "id": "072ff835",
   "metadata": {},
   "outputs": [],
   "source": [
    "grouped_data_region.head(30)"
   ]
  },
  {
   "cell_type": "code",
   "execution_count": null,
   "id": "cb19685a",
   "metadata": {
    "scrolled": false
   },
   "outputs": [],
   "source": [
    "# Create the bar plot\n",
    "reg_ord_cnt = region_order_count.plot(kind='bar', figsize=(10, 10))\n",
    "\n",
    "# Set the title and axis labels\n",
    "plt.title('Count of Orders by Region')\n",
    "plt.xlabel('Region')\n",
    "plt.ylabel('Count')"
   ]
  },
  {
   "cell_type": "markdown",
   "id": "3ffc8088",
   "metadata": {},
   "source": [
    "# 07. Exporting Data and Plots"
   ]
  },
  {
   "cell_type": "code",
   "execution_count": null,
   "id": "e994e93b",
   "metadata": {},
   "outputs": [],
   "source": [
    "# saving customer profile by order count bar plot\n",
    "cust_prof_cnt.figure.savefig(os.path.join(path, '04 Analysis','Visualizations', 'customer_profile_order_count.png'))"
   ]
  },
  {
   "cell_type": "code",
   "execution_count": null,
   "id": "8e452e81",
   "metadata": {
    "scrolled": true
   },
   "outputs": [],
   "source": [
    "# saving department by order count bar plot\n",
    "\n",
    "dep_ord_cnt.figure.savefig(os.path.join(path, '04 Analysis','Visualizations', 'department_order_count.png'))"
   ]
  },
  {
   "cell_type": "code",
   "execution_count": null,
   "id": "4565a925",
   "metadata": {
    "scrolled": true
   },
   "outputs": [],
   "source": [
    "# saving region by order count bar plot\n",
    "\n",
    "reg_ord_cnt.figure.savefig(os.path.join(path, '04 Analysis','Visualizations', 'region_order_count.png'))"
   ]
  },
  {
   "cell_type": "code",
   "execution_count": null,
   "id": "fee9b623",
   "metadata": {},
   "outputs": [],
   "source": []
  }
 ],
 "metadata": {
  "kernelspec": {
   "display_name": "Python 3 (ipykernel)",
   "language": "python",
   "name": "python3"
  },
  "language_info": {
   "codemirror_mode": {
    "name": "ipython",
    "version": 3
   },
   "file_extension": ".py",
   "mimetype": "text/x-python",
   "name": "python",
   "nbconvert_exporter": "python",
   "pygments_lexer": "ipython3",
   "version": "3.9.13"
  }
 },
 "nbformat": 4,
 "nbformat_minor": 5
}
